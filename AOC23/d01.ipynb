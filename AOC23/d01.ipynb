{
 "cells": [
  {
   "cell_type": "code",
   "execution_count": 31,
   "id": "7858a40d",
   "metadata": {},
   "outputs": [],
   "source": [
    "import regex as re\n",
    "word_nums = [\"zero\",\"one\",\"two\",\"three\",\"four\",\"five\",\"six\",\"seven\",\"eight\",\"nine\",\"0\",\"1\",\"2\",\"3\",\"4\",\"5\",\"6\",\"7\",\"8\",\"9\"]\n",
    "re_word_num= \"|\".join(word_nums)\n",
    "\n",
    "def find_num(line):\n",
    "    num = re.findall(f\"\\d\", line)\n",
    "    if len(num) == 1:\n",
    "        num.insert(0,num[0])\n",
    "    return num\n",
    "\n",
    "def clean_nums(first,last,word_nums):\n",
    "    f=first\n",
    "    l=last\n",
    "    if len(first)>1:\n",
    "        f=str(word_nums.index(first))\n",
    "    if len(last)>1:\n",
    "        l=str(word_nums.index(last))\n",
    "    return(int(\"\".join([f,l])))\n",
    "\n",
    "            "
   ]
  },
  {
   "cell_type": "code",
   "execution_count": 35,
   "id": "25def03b",
   "metadata": {
    "scrolled": true
   },
   "outputs": [
    {
     "name": "stdout",
     "output_type": "stream",
     "text": [
      "54081\n",
      "54649\n"
     ]
    }
   ],
   "source": [
    "with open('data/d01d.txt') as file:\n",
    "    star1=0\n",
    "    star2=0\n",
    "    for line in file:\n",
    "        line=line.strip()\n",
    "        num=find_num(line)\n",
    "        star1+= int(\"\".join(num[::len(num)-1]))\n",
    "\n",
    "        num_list= re.findall(f\"{re_word_num}\",line,overlapped=True) ##edgecases: eightwo|oneight|threeight|nineight|eighthree\n",
    "        first=num_list[0]\n",
    "        last=num_list[-1]\n",
    "        cleaned_nums=clean_nums(first,last,word_nums)\n",
    "        star2+=cleaned_nums\n",
    "    print(star1)\n",
    "    print(star2)"
   ]
  }
 ],
 "metadata": {
  "kernelspec": {
   "display_name": "Python 3 (ipykernel)",
   "language": "python",
   "name": "python3"
  },
  "language_info": {
   "codemirror_mode": {
    "name": "ipython",
    "version": 3
   },
   "file_extension": ".py",
   "mimetype": "text/x-python",
   "name": "python",
   "nbconvert_exporter": "python",
   "pygments_lexer": "ipython3",
   "version": "3.11.0"
  }
 },
 "nbformat": 4,
 "nbformat_minor": 5
}
