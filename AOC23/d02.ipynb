{
 "cells": [
  {
   "cell_type": "code",
   "execution_count": null,
   "id": "7858a40d",
   "metadata": {
    "scrolled": true
   },
   "outputs": [],
   "source": [
    "def clean_sets(sets):\n",
    "    b=[]\n",
    "    for a in sets:\n",
    "        c=a.strip().split(\",\")\n",
    "        d={k.split()[1]:int(k.split()[0]) for k in c}\n",
    "        b.append(d)\n",
    "    return b\n",
    "\n",
    "test=[' 6 blue, 9 green', ' 3 green, 6 blue', ' 5 blue, 1 red']\n",
    "print(clean_sets(test))"
   ]
  },
  {
   "cell_type": "code",
   "execution_count": null,
   "id": "25def03b",
   "metadata": {
    "scrolled": true
   },
   "outputs": [],
   "source": [
    "import re\n",
    "load = {\"red\":12,\"green\":13,\"blue\":14}\n",
    "game_sets = dict()\n",
    "\n",
    "with open('data/d02d.txt') as file:\n",
    "    for line in file:\n",
    "        line=line.strip()\n",
    "        line=re.split(\"[;:]\",line)\n",
    "        game_sets[line[0]]= clean_sets(line[1::])\n",
    "    "
   ]
  },
  {
   "cell_type": "code",
   "execution_count": null,
   "id": "461ca2fe-819c-43fc-8383-71baf1c59b98",
   "metadata": {},
   "outputs": [],
   "source": [
    "star1=0\n",
    "star2=0\n",
    "impossible_games=set()\n",
    "\n",
    "for game in game_sets.keys():\n",
    "    for aset in game_sets[game]:\n",
    "        for key in aset.keys():\n",
    "            if aset[key] > load[key]:\n",
    "                impossible_games.add(game)\n",
    "                break\n",
    "\n",
    "possible_games = set(game_sets.keys()).difference(impossible_games)\n",
    "#print(len(possible_games)+len(impossible_games), len(game_sets),len(possible_games),len(impossible_games))\n",
    "\n",
    "for game in possible_games:\n",
    "    star1 += int(game.split()[1])\n",
    "    \n",
    "print(star1)"
   ]
  }
 ],
 "metadata": {
  "kernelspec": {
   "display_name": "Python 3 (ipykernel)",
   "language": "python",
   "name": "python3"
  },
  "language_info": {
   "codemirror_mode": {
    "name": "ipython",
    "version": 3
   },
   "file_extension": ".py",
   "mimetype": "text/x-python",
   "name": "python",
   "nbconvert_exporter": "python",
   "pygments_lexer": "ipython3",
   "version": "3.11.0"
  }
 },
 "nbformat": 4,
 "nbformat_minor": 5
}
