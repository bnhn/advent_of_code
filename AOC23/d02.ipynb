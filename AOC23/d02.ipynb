{
 "cells": [
  {
   "cell_type": "code",
   "execution_count": null,
   "id": "7858a40d",
   "metadata": {
    "scrolled": true
   },
   "outputs": [],
   "source": [
    "def clean_sets(sets):\n",
    "    b=[]\n",
    "    for a in sets:\n",
    "        c=a.strip().split(\",\")\n",
    "        d={k.split()[1]:int(k.split()[0]) for k in c}\n",
    "        b.append(d)\n",
    "    return b\n",
    "    "
   ]
  },
  {
   "cell_type": "code",
   "execution_count": null,
   "id": "25def03b",
   "metadata": {
    "scrolled": true
   },
   "outputs": [],
   "source": [
    "import re\n",
    "load = {\"red\":12,\"green\":13,\"blue\":14}\n",
    "game_sets = dict()\n",
    "\n",
    "with open('data/d02d.txt') as file:\n",
    "    for line in file:\n",
    "        line=line.strip()\n",
    "        line=re.split(\"[;:]\",line)\n",
    "        game_sets[line[0]]= clean_sets(line[1::])\n",
    " "
   ]
  },
  {
   "cell_type": "code",
   "execution_count": null,
   "id": "461ca2fe-819c-43fc-8383-71baf1c59b98",
   "metadata": {},
   "outputs": [],
   "source": [
    "star1=0\n",
    "impossible_games=set()\n",
    "\n",
    "for game in game_sets.keys():\n",
    "    for aset in game_sets[game]:\n",
    "        for key in aset.keys():\n",
    "            if aset[key] > load[key]:\n",
    "                impossible_games.add(game)\n",
    "                break\n",
    "\n",
    "possible_games = set(game_sets.keys()).difference(impossible_games)\n",
    "\n",
    "for game in possible_games:\n",
    "    star1 += int(game.split()[1])\n",
    "    \n",
    "print(star1)"
   ]
  },
  {
   "cell_type": "code",
   "execution_count": null,
   "id": "1b230fee-ff47-4573-856c-b52f39f6196f",
   "metadata": {},
   "outputs": [],
   "source": [
    "from functools import reduce\n",
    "\n",
    "star2=0\n",
    "\n",
    "tes = [{'red': 1, 'blue': 5, 'green': 10},\n",
    "  {'green': 5, 'blue': 6, 'red': 12},\n",
    "  {'red': 4, 'blue': 10, 'green': 4}]\n",
    "\n",
    "def find_max(a,b):\n",
    "    base = {\"red\":1,\"green\":1,\"blue\":1}\n",
    "    base[\"red\"]= max(a.get(\"red\",1),b.get(\"red\",1))\n",
    "    base[\"green\"]= max(a.get(\"green\",1),b.get(\"green\",1))\n",
    "    base[\"blue\"]= max(a.get(\"blue\",1),b.get(\"blue\",1))\n",
    "    return base\n",
    "\n",
    "for game in game_sets.keys():\n",
    "    an = reduce(find_max,game_sets[game])\n",
    "    product_an = reduce(lambda x,y:x*y,an.values())\n",
    "    #print(product_an)\n",
    "    star2+=product_an\n",
    "\n",
    "star2"
   ]
  },
  {
   "cell_type": "code",
   "execution_count": null,
   "id": "c8803bdf-7b56-4443-9b25-5ec5bdcd7cce",
   "metadata": {},
   "outputs": [],
   "source": []
  }
 ],
 "metadata": {
  "kernelspec": {
   "display_name": "Python 3 (ipykernel)",
   "language": "python",
   "name": "python3"
  },
  "language_info": {
   "codemirror_mode": {
    "name": "ipython",
    "version": 3
   },
   "file_extension": ".py",
   "mimetype": "text/x-python",
   "name": "python",
   "nbconvert_exporter": "python",
   "pygments_lexer": "ipython3",
   "version": "3.11.0"
  }
 },
 "nbformat": 4,
 "nbformat_minor": 5
}
