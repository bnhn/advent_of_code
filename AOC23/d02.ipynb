{
 "cells": [
  {
   "cell_type": "code",
   "execution_count": 1,
   "id": "7858a40d",
   "metadata": {
    "scrolled": true
   },
   "outputs": [
    {
     "name": "stdout",
     "output_type": "stream",
     "text": [
      "[{'blue': 6, 'green': 9}, {'green': 3, 'blue': 6}, {'blue': 5, 'red': 1}]\n"
     ]
    }
   ],
   "source": [
    "def clean_sets(sets):\n",
    "    b=[]\n",
    "    for a in sets:\n",
    "        c=a.strip().split(\",\")\n",
    "        d={k.split()[1]:int(k.split()[0]) for k in c}\n",
    "        b.append(d)\n",
    "    return b\n",
    "\n",
    "test=[' 6 blue, 9 green', ' 3 green, 6 blue', ' 5 blue, 1 red']\n",
    "print(clean_sets(test))"
   ]
  },
  {
   "cell_type": "code",
   "execution_count": 32,
   "id": "25def03b",
   "metadata": {
    "scrolled": true
   },
   "outputs": [],
   "source": [
    "import re\n",
    "load = {\"red\":12,\"green\":13,\"blue\":14}\n",
    "game_sets = dict()\n",
    "\n",
    "with open('data/test_d02d.txt') as file:\n",
    "    for line in file:\n",
    "        line=line.strip()\n",
    "        line=re.split(\"[;:]\",line)\n",
    "        game_sets[line[0]]= clean_sets(line[1::])\n",
    "    "
   ]
  },
  {
   "cell_type": "code",
   "execution_count": 33,
   "id": "461ca2fe-819c-43fc-8383-71baf1c59b98",
   "metadata": {},
   "outputs": [
    {
     "name": "stdout",
     "output_type": "stream",
     "text": [
      "8\n"
     ]
    }
   ],
   "source": [
    "star1=0\n",
    "star2=0\n",
    "impossible_games=set()\n",
    "\n",
    "for game in game_sets.keys():\n",
    "    for aset in game_sets[game]:\n",
    "        for key in aset.keys():\n",
    "            if aset[key] > load[key]:\n",
    "                impossible_games.add(game)\n",
    "                break\n",
    "\n",
    "possible_games = set(game_sets.keys()).difference(impossible_games)\n",
    "#print(len(possible_games)+len(impossible_games), len(game_sets),len(possible_games),len(impossible_games))\n",
    "\n",
    "for game in possible_games:\n",
    "    star1 += int(game.split()[1])\n",
    "    \n",
    "print(star1)"
   ]
  },
  {
   "cell_type": "code",
   "execution_count": null,
   "id": "02566525-f056-423b-9b72-cc660cfcd81d",
   "metadata": {},
   "outputs": [],
   "source": []
  },
  {
   "cell_type": "code",
   "execution_count": 34,
   "id": "1b230fee-ff47-4573-856c-b52f39f6196f",
   "metadata": {},
   "outputs": [
    {
     "data": {
      "text/plain": [
       "2286"
      ]
     },
     "execution_count": 34,
     "metadata": {},
     "output_type": "execute_result"
    }
   ],
   "source": [
    "from functools import reduce\n",
    "\n",
    "tes = [{'red': 1, 'blue': 5, 'green': 10},\n",
    "  {'green': 5, 'blue': 6, 'red': 12},\n",
    "  {'red': 4, 'blue': 10, 'green': 4}]\n",
    "\n",
    "def find_max(a,b):\n",
    "    base = {\"red\":1,\"green\":1,\"blue\":1}\n",
    "    base[\"red\"]= max(a.get(\"red\",1),b.get(\"red\",1))\n",
    "    base[\"green\"]= max(a.get(\"green\",1),b.get(\"green\",1))\n",
    "    base[\"blue\"]= max(a.get(\"blue\",1),b.get(\"blue\",1))\n",
    "    return base\n",
    "\n",
    "for game in game_sets.keys():\n",
    "    an = reduce(find_max,game_sets[game])\n",
    "    product_an = reduce(lambda x,y:x*y,an.values())\n",
    "    #print(product_an)\n",
    "    star2+=product_an\n",
    "\n",
    "star2"
   ]
  },
  {
   "cell_type": "code",
   "execution_count": 35,
   "id": "e265ccd2-5b72-446b-acf2-38af09f3ba7c",
   "metadata": {},
   "outputs": [],
   "source": [
    "min_cubes = map(lambda x:(game_sets[x]),game_sets.keys())\n"
   ]
  },
  {
   "cell_type": "code",
   "execution_count": 8,
   "id": "634b878a-cf40-434e-8d31-8f7b134f3f9c",
   "metadata": {},
   "outputs": [
    {
     "data": {
      "text/plain": [
       "5"
      ]
     },
     "execution_count": 8,
     "metadata": {},
     "output_type": "execute_result"
    }
   ],
   "source": [
    "max(5,9)\n",
    "tes[0].get(\"blue\",1)"
   ]
  },
  {
   "cell_type": "code",
   "execution_count": 10,
   "id": "7857c45a-27b1-41e9-be80-eb464f27f8b7",
   "metadata": {},
   "outputs": [
    {
     "data": {
      "text/plain": [
       "{'red': 12, 'green': 10, 'blue': 6}"
      ]
     },
     "execution_count": 10,
     "metadata": {},
     "output_type": "execute_result"
    }
   ],
   "source": [
    "find_max(tes[0],tes[1])"
   ]
  },
  {
   "cell_type": "code",
   "execution_count": null,
   "id": "9e63f69f-984a-4ee3-b9af-ca695dfeb4ae",
   "metadata": {},
   "outputs": [],
   "source": []
  }
 ],
 "metadata": {
  "kernelspec": {
   "display_name": "Python 3 (ipykernel)",
   "language": "python",
   "name": "python3"
  },
  "language_info": {
   "codemirror_mode": {
    "name": "ipython",
    "version": 3
   },
   "file_extension": ".py",
   "mimetype": "text/x-python",
   "name": "python",
   "nbconvert_exporter": "python",
   "pygments_lexer": "ipython3",
   "version": "3.11.0"
  }
 },
 "nbformat": 4,
 "nbformat_minor": 5
}
