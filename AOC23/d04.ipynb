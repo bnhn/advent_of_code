{
 "cells": [
  {
   "cell_type": "code",
   "execution_count": null,
   "id": "25def03b",
   "metadata": {
    "scrolled": true
   },
   "outputs": [],
   "source": [
    "star1 = 0\n",
    "scores = []\n",
    "cards = dict()\n",
    "cc = dict()\n",
    "with open(\"data/d04d.txt\") as file:\n",
    "    for line in file:\n",
    "        score = 0\n",
    "        line = line.strip()\n",
    "        win_no = line.split(\":\")[1].split(\"|\")[0].split()\n",
    "        player_no = line.split(\":\")[1].split(\"|\")[1].split()\n",
    "        cards[line.split(\":\")[0].split()[1]] = (win_no, player_no)\n",
    "        cc[line.split(\":\")[0].split()[1]] = 1\n",
    "\n",
    "        #######PARTONE#########\n",
    "        for i in win_no:\n",
    "            if i in player_no:\n",
    "                if score >= 1:\n",
    "                    score = score + score\n",
    "                else:\n",
    "                    score = 1\n",
    "        scores.append(score)\n",
    "star1 = sum(scores)\n",
    "\n",
    "\n",
    "#######PARTTWO#########\n",
    "star2=0\n",
    "for card_num in cc.keys():\n",
    "    for i in range(cc[card_num]):\n",
    "        score_2 = 0\n",
    "        for win in cards[card_num][0]:\n",
    "            if win in cards[card_num][1]:\n",
    "                score_2 += 1\n",
    "                next_card_num = int(card_num)+score_2\n",
    "                cc[f\"{next_card_num}\"] +=1\n",
    "\n",
    "for card_num in cc.keys():\n",
    "    star2 += cc[card_num]\n"
   ]
  },
  {
   "cell_type": "code",
   "execution_count": null,
   "id": "c8803bdf-7b56-4443-9b25-5ec5bdcd7cce",
   "metadata": {},
   "outputs": [],
   "source": [
    "print(star1)\n",
    "print(star2)"
   ]
  }
 ],
 "metadata": {
  "kernelspec": {
   "display_name": "Python 3 (ipykernel)",
   "language": "python",
   "name": "python3"
  },
  "language_info": {
   "codemirror_mode": {
    "name": "ipython",
    "version": 3
   },
   "file_extension": ".py",
   "mimetype": "text/x-python",
   "name": "python",
   "nbconvert_exporter": "python",
   "pygments_lexer": "ipython3",
   "version": "3.11.0"
  }
 },
 "nbformat": 4,
 "nbformat_minor": 5
}
