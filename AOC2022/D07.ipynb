{
 "cells": [
  {
   "cell_type": "code",
   "execution_count": 5,
   "id": "2446ee88",
   "metadata": {},
   "outputs": [
    {
     "name": "stdout",
     "output_type": "stream",
     "text": [
      "['dir a', 'dir d', 'dir e']\n",
      "['14848514 b.txt', '8504156 c.dat', '29116 f', '2557 g', '62596 h.lst', '584 i', '4060174 j', '8033020 d.log', '5626152 d.ext', '7214296 k']\n",
      "['$ cd /', '$ ls', '$ cd a', '$ ls', '$ cd e', '$ ls', '$ cd ..', '$ cd ..', '$ cd d', '$ ls']\n"
     ]
    }
   ],
   "source": [
    "d=[]\n",
    "f=[]\n",
    "c=[]\n",
    "with open('Data/D07DT.txt') as file:\n",
    "    for line in file:\n",
    "        line=line.strip()\n",
    "        if 'dir' in line:\n",
    "            d.append(line)\n",
    "        elif '$' in line:\n",
    "            c.append(line)\n",
    "        else:\n",
    "            f.append(line) \n",
    "print(d)\n",
    "print(f)\n",
    "print(c)"
   ]
  },
  {
   "cell_type": "code",
   "execution_count": null,
   "id": "25992883",
   "metadata": {},
   "outputs": [],
   "source": []
  }
 ],
 "metadata": {
  "kernelspec": {
   "display_name": "Python 3 (ipykernel)",
   "language": "python",
   "name": "python3"
  },
  "language_info": {
   "codemirror_mode": {
    "name": "ipython",
    "version": 3
   },
   "file_extension": ".py",
   "mimetype": "text/x-python",
   "name": "python",
   "nbconvert_exporter": "python",
   "pygments_lexer": "ipython3",
   "version": "3.9.10+"
  }
 },
 "nbformat": 4,
 "nbformat_minor": 5
}
