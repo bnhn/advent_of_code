{
 "cells": [
  {
   "cell_type": "code",
   "execution_count": 1,
   "id": "25def03b",
   "metadata": {
    "scrolled": true
   },
   "outputs": [
    {
     "data": {
      "text/plain": [
       "{'AA': {'rate': 0, 'lead_to': ['DD', 'II', 'BB'], 'open': False},\n",
       " 'BB': {'rate': 13, 'lead_to': ['CC', 'AA'], 'open': False},\n",
       " 'CC': {'rate': 2, 'lead_to': ['DD', 'BB'], 'open': False},\n",
       " 'DD': {'rate': 20, 'lead_to': ['CC', 'AA', 'EE'], 'open': False},\n",
       " 'EE': {'rate': 3, 'lead_to': ['FF', 'DD'], 'open': False},\n",
       " 'FF': {'rate': 0, 'lead_to': ['EE', 'GG'], 'open': False},\n",
       " 'GG': {'rate': 0, 'lead_to': ['FF', 'HH'], 'open': False},\n",
       " 'HH': {'rate': 22, 'lead_to': ['GG'], 'open': False},\n",
       " 'II': {'rate': 0, 'lead_to': ['AA', 'JJ'], 'open': False},\n",
       " 'JJ': {'rate': 21, 'lead_to': ['II'], 'open': False}}"
      ]
     },
     "execution_count": 1,
     "metadata": {},
     "output_type": "execute_result"
    }
   ],
   "source": [
    "valves={}\n",
    "with open('Data/D16DT.txt') as file:\n",
    "    for line in file:\n",
    "        l=line.strip().split(';')\n",
    "        lead_to=list(map(lambda str: str.strip(','),l[1].split()[4:]))\n",
    "        v=l[0].split()\n",
    "        rate=v[-1].split('=')\n",
    "        valves[v[1]]={'rate':int(rate[1]), 'lead_to':lead_to,'open':False}\n",
    "valves"
   ]
  },
  {
   "cell_type": "code",
   "execution_count": 4,
   "id": "7858a40d",
   "metadata": {},
   "outputs": [
    {
     "name": "stdout",
     "output_type": "stream",
     "text": [
      "test\n",
      "test\n"
     ]
    },
    {
     "data": {
      "text/plain": [
       "'CC'"
      ]
     },
     "execution_count": 4,
     "metadata": {},
     "output_type": "execute_result"
    }
   ],
   "source": [
    "cur_valve='BB'\n",
    "minute=0\n",
    "tepr=[] #tepr == Total Eventual Pressure Release\n",
    "while minute <4:\n",
    "    if valves[cur_valve]['rate']==0:\n",
    "        max_flow_valve= max(valves[cur_valve]['lead_to'],key=lambda k: valves[k]['rate'])\n",
    "        cur_valve=max_flow_valve\n",
    "        minute+=1\n",
    "    elif not valves[cur_valve]['open']:\n",
    "        max_flow_valve= max(valves[cur_valve]['lead_to'],key=lambda k: valves[k]['rate'])\n",
    "        print('test')\n",
    "        minute+=1\n",
    "    minute+=1\n",
    "max_flow_valve"
   ]
  },
  {
   "cell_type": "code",
   "execution_count": null,
   "id": "cf7fed6b",
   "metadata": {},
   "outputs": [],
   "source": []
  }
 ],
 "metadata": {
  "kernelspec": {
   "display_name": "Python 3 (ipykernel)",
   "language": "python",
   "name": "python3"
  },
  "language_info": {
   "codemirror_mode": {
    "name": "ipython",
    "version": 3
   },
   "file_extension": ".py",
   "mimetype": "text/x-python",
   "name": "python",
   "nbconvert_exporter": "python",
   "pygments_lexer": "ipython3",
   "version": "3.11.0"
  }
 },
 "nbformat": 4,
 "nbformat_minor": 5
}
