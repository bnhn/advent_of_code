{
 "cells": [
  {
   "cell_type": "code",
   "execution_count": 10,
   "id": "a6b60607",
   "metadata": {
    "scrolled": true
   },
   "outputs": [
    {
     "name": "stdout",
     "output_type": "stream",
     "text": [
      "<_io.TextIOWrapper name='Data/D8DT.txt' mode='r' encoding='UTF-8'>\n",
      "25512\n",
      "65332\n",
      "33549\n",
      "35390\n",
      "5 5 16\n",
      "30373\n",
      "['32633', '32290']\n"
     ]
    }
   ],
   "source": [
    "d=[]\n",
    "c=[]\n",
    "with open('Data/D8DT.txt') as file:\n",
    "    print(file)\n",
    "    x,y=0,1\n",
    "    xtemp=file.readline().strip()\n",
    "    x=len(xtemp)\n",
    "    ytemp=[xtemp[0],xtemp[x-1]]\n",
    "    for line in file:\n",
    "        line=line.strip()\n",
    "        y+=1\n",
    "        ytemp[0]+=line[0]\n",
    "        ytemp[1]+=line[x-1]\n",
    "        print(line)\n",
    "        \n",
    "    outerTrees= (x*2)+(y*2)-4\n",
    "print(x,y,outerTrees)\n",
    "print(xtemp)\n",
    "print(ytemp)"
   ]
  },
  {
   "cell_type": "code",
   "execution_count": null,
   "id": "504d218c",
   "metadata": {},
   "outputs": [],
   "source": []
  },
  {
   "cell_type": "code",
   "execution_count": null,
   "id": "281b0888",
   "metadata": {},
   "outputs": [],
   "source": []
  }
 ],
 "metadata": {
  "kernelspec": {
   "display_name": "Python 3 (ipykernel)",
   "language": "python",
   "name": "python3"
  },
  "language_info": {
   "codemirror_mode": {
    "name": "ipython",
    "version": 3
   },
   "file_extension": ".py",
   "mimetype": "text/x-python",
   "name": "python",
   "nbconvert_exporter": "python",
   "pygments_lexer": "ipython3",
   "version": "3.9.10+"
  }
 },
 "nbformat": 4,
 "nbformat_minor": 5
}
