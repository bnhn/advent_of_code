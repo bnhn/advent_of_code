{
 "cells": [
  {
   "cell_type": "code",
   "execution_count": 14,
   "metadata": {
    "scrolled": true
   },
   "outputs": [],
   "source": [
    "#item priorities\n",
    "from string import ascii_lowercase as alc\n",
    "lcp = {}\n",
    "l=1\n",
    "u=27\n",
    "for i in alc:\n",
    "    lcp[i]=l\n",
    "    lcp[i.upper()]=u\n",
    "    l+=1\n",
    "    u+=1 "
   ]
  },
  {
   "cell_type": "code",
   "execution_count": 15,
   "metadata": {
    "scrolled": true
   },
   "outputs": [
    {
     "name": "stdout",
     "output_type": "stream",
     "text": [
      "7845\n",
      "2790\n"
     ]
    }
   ],
   "source": [
    "scores=0\n",
    "scores2=0\n",
    "comp=[]\n",
    "groupTag=[]\n",
    "numLines=0\n",
    "a=2\n",
    "\n",
    "with open('Data/D03D.txt') as file: \n",
    "    lines = [line.strip() for line in file]\n",
    "#part one   \n",
    "for line in lines:\n",
    "    x = len(line)\n",
    "    c1 = line[:x//2]\n",
    "    c2 = line[x//2:]\n",
    "    for i in c1:\n",
    "        if i in c2:\n",
    "            comp.append(i)\n",
    "            break\n",
    "    numLines+=1\n",
    "\n",
    "for i in range(len(comp)):\n",
    "    scores+=lcp[comp[i]]\n",
    "\n",
    "\n",
    "#part two\n",
    "for i in range(numLines//3):\n",
    "    for j in lines[a]:\n",
    "        if j in lines[a-1] and j in lines[a-2]:\n",
    "            groupTag.append(j)\n",
    "            a+=3\n",
    "            break\n",
    "\n",
    "for i in range(len(groupTag)):\n",
    "    scores2+= lcp[groupTag[i]]\n",
    "    \n",
    "\n",
    "print(scores)\n",
    "print(scores2)"
   ]
  }
 ],
 "metadata": {
  "kernelspec": {
   "display_name": "Python 3 (ipykernel)",
   "language": "python",
   "name": "python3"
  },
  "language_info": {
   "codemirror_mode": {
    "name": "ipython",
    "version": 3
   },
   "file_extension": ".py",
   "mimetype": "text/x-python",
   "name": "python",
   "nbconvert_exporter": "python",
   "pygments_lexer": "ipython3",
   "version": "3.11.0"
  }
 },
 "nbformat": 4,
 "nbformat_minor": 2
}
